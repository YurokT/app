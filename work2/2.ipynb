{
 "cells": [
  {
   "attachments": {},
   "cell_type": "markdown",
   "metadata": {},
   "source": [
    "**Робота з бібліотекою Numpy**"
   ]
  },
  {
   "cell_type": "code",
   "execution_count": 42,
   "metadata": {},
   "outputs": [
    {
     "name": "stdout",
     "output_type": "stream",
     "text": [
      "[20.1, 20.1, 20.2, 20.4]\n"
     ]
    }
   ],
   "source": [
    "import numpy as np\n",
    "temperature = [20.1, 20.1, 20.2, 20.4]\n",
    "print(temperature)"
   ]
  },
  {
   "cell_type": "code",
   "execution_count": 43,
   "metadata": {},
   "outputs": [
    {
     "name": "stdout",
     "output_type": "stream",
     "text": [
      "При множенні на 5 маємо: 100\n"
     ]
    },
    {
     "data": {
      "text/plain": [
       "'Результат дорівнює добутку початкової температури на число 5.'"
      ]
     },
     "execution_count": 43,
     "metadata": {},
     "output_type": "execute_result"
    }
   ],
   "source": [
    "temperature = 20\n",
    "t1 = temperature * 5\n",
    "print(f\"При множенні на 5 маємо: {t1}\")\n",
    "# Відповідь на питання\n",
    "(\"Результат дорівнює добутку початкової температури на число 5.\")"
   ]
  },
  {
   "cell_type": "code",
   "execution_count": 45,
   "metadata": {},
   "outputs": [
    {
     "name": "stdout",
     "output_type": "stream",
     "text": [
      "Тепер отримаємо: [100, 125, 150, 175]\n"
     ]
    },
    {
     "data": {
      "text/plain": [
       "'Тепер множення успішне, оскільки ми виконуємо множення на 5 для кожного елемента списку окремо.'"
      ]
     },
     "execution_count": 45,
     "metadata": {},
     "output_type": "execute_result"
    }
   ],
   "source": [
    "temperature = [20, 25, 30, 35]\n",
    "t1 = [x * 5 for x in temperature]\n",
    "print(f\"Тепер отримаємо: {t1}\")\n",
    "# Відповідь на питання\n",
    "(\"Тепер множення успішне, оскільки ми виконуємо множення на 5 для кожного елемента списку окремо.\")"
   ]
  },
  {
   "cell_type": "code",
   "execution_count": 46,
   "metadata": {},
   "outputs": [
    {
     "name": "stdout",
     "output_type": "stream",
     "text": [
      "Масив з використанням методів NumPy [20 25 30 35]\n"
     ]
    }
   ],
   "source": [
    "t2 = np.array(temperature)\n",
    "print(\"Масив з використанням методів NumPy\", t2)"
   ]
  },
  {
   "attachments": {},
   "cell_type": "markdown",
   "metadata": {},
   "source": [
    "**Вектори, створення та робота з ними**"
   ]
  },
  {
   "cell_type": "code",
   "execution_count": 47,
   "metadata": {},
   "outputs": [
    {
     "name": "stdout",
     "output_type": "stream",
     "text": [
      "Все можна сторити ручну за допомогою методу np.array передавши йому набір значень у вигляді List:\n",
      "[[ 1 -5  3  2  4]] \n",
      "Вектор має розмір (1, 5)\n",
      "[[1]\n",
      " [2]\n",
      " [3]\n",
      " [4]] \n",
      "Вектор має розмір (4, 1)\n"
     ]
    }
   ],
   "source": [
    "print(\"Все можна сторити ручну за допомогою методу np.array передавши йому набір значень у вигляді List:\")\n",
    "vector_row = np.array([[1, -5, 3, 2, 4]])\n",
    "vector_column = np.array([[1], \n",
    "                          [2], \n",
    "                          [3], \n",
    "                          [4]])\n",
    "print(vector_row, \"\\nВектор має розмір\", vector_row.shape)\n",
    "print(vector_column, \"\\nВектор має розмір\", vector_column.shape)"
   ]
  },
  {
   "attachments": {},
   "cell_type": "markdown",
   "metadata": {},
   "source": [
    "**Метод arange - генерує послідовність чисел з певним кроком у заданому інтервалі**"
   ]
  },
  {
   "cell_type": "code",
   "execution_count": 48,
   "metadata": {},
   "outputs": [
    {
     "name": "stdout",
     "output_type": "stream",
     "text": [
      "Масив згенерований простим range: range(0, 100)\n",
      "Масив згенерований методом arange: [ 0  1  2  3  4  5  6  7  8  9 10 11 12 13 14 15 16 17 18 19 20 21 22 23\n",
      " 24 25 26 27 28 29 30 31 32 33 34 35 36 37 38 39 40 41 42 43 44 45 46 47\n",
      " 48 49 50 51 52 53 54 55 56 57 58 59 60 61 62 63 64 65 66 67 68 69 70 71\n",
      " 72 73 74 75 76 77 78 79 80 81 82 83 84 85 86 87 88 89 90 91 92 93 94 95\n",
      " 96 97 98 99]\n"
     ]
    }
   ],
   "source": [
    "import numpy as np\n",
    "\n",
    "start = 5\n",
    "size_of_vec = 100\n",
    "x = range(size_of_vec)\n",
    "a = np.arange(size_of_vec)\n",
    "\n",
    "print(f\"Масив згенерований простим range: {x}\")\n",
    "print(f\"Масив згенерований методом arange: {a}\")\n"
   ]
  },
  {
   "cell_type": "code",
   "execution_count": 49,
   "metadata": {},
   "outputs": [
    {
     "name": "stdout",
     "output_type": "stream",
     "text": [
      "Можемо задавати початок генерації вектора, перший елемент: 5\n",
      "Останній діапазон згенерованого масиву: 99\n"
     ]
    }
   ],
   "source": [
    "import numpy as np\n",
    "\n",
    "start = 5\n",
    "size_of_vec = 100\n",
    "a = np.arange(start, size_of_vec)\n",
    "\n",
    "print(f\"Можемо задавати початок генерації вектора, перший елемент: {a[0]}\")\n",
    "print(f\"Останній діапазон згенерованого масиву: {a[-1]}\")\n"
   ]
  },
  {
   "cell_type": "code",
   "execution_count": 50,
   "metadata": {},
   "outputs": [
    {
     "name": "stdout",
     "output_type": "stream",
     "text": [
      "Те саме але з вбудованою функцією range: range(5, 100)\n",
      "Власне вивід значень: 52\n"
     ]
    }
   ],
   "source": [
    "start = 5\n",
    "size_of_vec = 100\n",
    "x = range(start, size_of_vec)\n",
    "x_list = list(x)\n",
    "\n",
    "mid_idx = len(x_list) // 2\n",
    "\n",
    "print(\"Те саме але з вбудованою функцією range:\", x)\n",
    "print(\"Власне вивід значень:\", x_list[mid_idx])\n"
   ]
  },
  {
   "cell_type": "code",
   "execution_count": 53,
   "metadata": {},
   "outputs": [
    {
     "name": "stdout",
     "output_type": "stream",
     "text": [
      "Будем мати: [ 0.  1.  2.  3.  4.  5.  6.  7.  8.  9. 10.]\n",
      "З кроком 0.5: [0.5 1.  1.5 2.  2.5 3.  3.5]\n",
      "З кроком 0.0001: [0.04   0.0401 0.0402 ... 1.8397 1.8398 1.8399]\n",
      "Після піднесення до степеню та ділення на 0.4: [2.50000000e-02 2.51251563e-02 2.52506250e-02 ... 5.28827514e+01\n",
      " 5.28885006e+01 5.28942502e+01]\n"
     ]
    }
   ],
   "source": [
    "# дробові числа\n",
    "x = np.arange(10.4)\n",
    "print(\"Будем мати:\", x)\n",
    "\n",
    "# крок\n",
    "x = np.arange(0.5, 4, 0.5)\n",
    "print(\"З кроком 0.5:\", x)\n",
    "\n",
    "# Заокруглення\n",
    "x = np.arange(0.04, 1.84, 0.0001)\n",
    "print(\"З кроком 0.0001:\", x)\n",
    "\n",
    "y = x * 2.5\n",
    "z = np.power(y, 2) / 0.4\n",
    "print(\"Після піднесення до степеню та ділення на 0.4:\", z)\n",
    "\n"
   ]
  },
  {
   "attachments": {},
   "cell_type": "markdown",
   "metadata": {},
   "source": [
    "**Метод linspace - генерує задану кількістю чисел у певному діапазоні, 50 чисел за замовчуванням**"
   ]
  },
  {
   "cell_type": "code",
   "execution_count": 55,
   "metadata": {},
   "outputs": [
    {
     "name": "stdout",
     "output_type": "stream",
     "text": [
      "Згенерували 50 чисел в діапазоні 5.0 до 100.0\n",
      "5\n",
      "7\n",
      "9\n",
      "11\n",
      "13\n",
      "15\n",
      "17\n",
      "19\n",
      "21\n",
      "23\n",
      "25\n",
      "27\n",
      "29\n",
      "31\n",
      "33\n",
      "35\n",
      "37\n",
      "39\n",
      "41\n",
      "43\n",
      "45\n",
      "47\n",
      "49\n",
      "51\n",
      "53\n",
      "55\n",
      "57\n",
      "59\n",
      "61\n",
      "63\n",
      "65\n",
      "67\n",
      "69\n",
      "71\n",
      "73\n",
      "75\n",
      "77\n",
      "79\n",
      "81\n",
      "83\n",
      "85\n",
      "87\n",
      "89\n",
      "91\n",
      "93\n",
      "95\n",
      "97\n",
      "99\n"
     ]
    }
   ],
   "source": [
    "a = np.linspace(start, size_of_vec)\n",
    "print(f\"Згенерували {len(a)} чисел в діапазоні {a[0]} до {a[-1]}\")\n",
    "\n",
    "#print(f\"Власне числа: {a}\")\n",
    "start = 5\n",
    "size_of_vec = 100\n",
    "a = np.arange(start, size_of_vec)\n",
    "for i in range(0, len(a), 2):\n",
    "    print(a[i])\n"
   ]
  },
  {
   "cell_type": "code",
   "execution_count": 59,
   "metadata": {},
   "outputs": [
    {
     "name": "stdout",
     "output_type": "stream",
     "text": [
      "Можна зменшити кількість чисел до 5:\n",
      "Перші 10 чисел: [ 5  6  7  8  9 10 11 12 13 14]\n",
      "Останні 10 чисел: [100 101 102 103 104 105 106 107 108 109]\n"
     ]
    }
   ],
   "source": [
    "print(\"Можна зменшити кількість чисел до 5:\")\n",
    "a = np.linspace(start, size_of_vec, 5)\n",
    "\n",
    "start = 5\n",
    "size_of_vec = 110\n",
    "a = np.arange(start, size_of_vec)\n",
    "\n",
    "print(\"Перші 10 чисел:\", a[:10])\n",
    "print(\"Останні 10 чисел:\", a[-10:])\n"
   ]
  },
  {
   "cell_type": "code",
   "execution_count": 60,
   "metadata": {},
   "outputs": [
    {
     "name": "stdout",
     "output_type": "stream",
     "text": [
      "Як бачимо перше та останнє значення завжди входять у згенерований діапазон. \n",
      "Відповідно при цьому вираховується крок.\n",
      "Це можна змінити, виключивши останнє значення з визначення діапазону.\n",
      "\n"
     ]
    }
   ],
   "source": [
    "print(\"\"\"Як бачимо перше та останнє значення завжди входять у згенерований діапазон. \n",
    "Відповідно при цьому вираховується крок.\n",
    "Це можна змінити, виключивши останнє значення з визначення діапазону.\n",
    "\"\"\")"
   ]
  },
  {
   "cell_type": "code",
   "execution_count": 67,
   "metadata": {},
   "outputs": [
    {
     "name": "stdout",
     "output_type": "stream",
     "text": [
      "Крок між елементами: 19.0\n"
     ]
    }
   ],
   "source": [
    "start = 5\n",
    "size_of_vec = 100\n",
    "num_elements = 5\n",
    "x = np.linspace(start, size_of_vec, num_elements, endpoint=False)\n",
    "step = x[1] - x[0]\n",
    "print(f\"Крок між елементами: {step}\")\n",
    "\n"
   ]
  },
  {
   "cell_type": "code",
   "execution_count": 70,
   "metadata": {},
   "outputs": [
    {
     "name": "stdout",
     "output_type": "stream",
     "text": [
      "Для порівняння, ми можемо визначити крок автоматично, у нашому випадку це 23.75 та 19.0\n",
      "крок в другому випадку більший, оскільки кількість точок менша на 1\n"
     ]
    }
   ],
   "source": [
    "_, sp_1 = np.linspace(start, size_of_vec, 5, endpoint=True, retstep=True)\n",
    "_, sp_2 = np.linspace(start, size_of_vec, 5, endpoint=False, retstep=True)\n",
    "print(f\"Для порівняння, ми можемо визначити крок автоматично, у нашому випадку це {sp_1} та {sp_2}\")\n",
    "print (\"крок в другому випадку більший, оскільки кількість точок менша на 1\")"
   ]
  },
  {
   "attachments": {},
   "cell_type": "markdown",
   "metadata": {},
   "source": [
    "**Типи масивів/векторів**"
   ]
  },
  {
   "cell_type": "code",
   "execution_count": 73,
   "metadata": {},
   "outputs": [
    {
     "name": "stdout",
     "output_type": "stream",
     "text": [
      "Розглядаємо приклад з Скаляр. \n",
      "Значення x буде: \n",
      " 1\n",
      "Тип Скаляр x:  <class 'numpy.ndarray'>\n",
      "Розмірність/вимір Скаляр x: 0\n",
      "Форма Скаляр x:  ()\n",
      "Кількість елементів х: 1\n",
      "-=--=--=--=--=--=--=--=--=--=-\n",
      "Розглядаємо приклад з Вектор Рядок. \n",
      "Значення x буде: \n",
      " [1 2 3]\n",
      "Тип Вектор Рядок x:  <class 'numpy.ndarray'>\n",
      "Розмірність/вимір Вектор Рядок x: 1\n",
      "Форма Вектор Рядок x:  (3,)\n",
      "Кількість елементів х: 3\n",
      "-=--=--=--=--=--=--=--=--=--=-\n",
      "Розглядаємо приклад з Вектор Стовпець. \n",
      "Значення x буде: \n",
      " [[1]\n",
      " [2]\n",
      " [3]]\n",
      "Тип Вектор Стовпець x:  <class 'numpy.ndarray'>\n",
      "Розмірність/вимір Вектор Стовпець x: 2\n",
      "Форма Вектор Стовпець x:  (3, 1)\n",
      "Кількість елементів х: 3\n",
      "-=--=--=--=--=--=--=--=--=--=-\n",
      "Розглядаємо приклад з Матриця. \n",
      "Значення x буде: \n",
      " [[1 2]\n",
      " [3 4]\n",
      " [5 6]]\n",
      "Тип Матриця x:  <class 'numpy.ndarray'>\n",
      "Розмірність/вимір Матриця x: 2\n",
      "Форма Матриця x:  (3, 2)\n",
      "Кількість елементів х: 6\n",
      "-=--=--=--=--=--=--=--=--=--=-\n",
      "Розглядаємо приклад з Багатовимірна Матриця. \n",
      "Значення x буде: \n",
      " [[[111 112]\n",
      "  [121 122]]\n",
      "\n",
      " [[211 212]\n",
      "  [221 222]]\n",
      "\n",
      " [[311 312]\n",
      "  [321 322]]]\n",
      "Тип Багатовимірна Матриця x:  <class 'numpy.ndarray'>\n",
      "Розмірність/вимір Багатовимірна Матриця x: 3\n",
      "Форма Багатовимірна Матриця x:  (3, 2, 2)\n",
      "Кількість елементів х: 12\n",
      "-=--=--=--=--=--=--=--=--=--=-\n",
      " Функція np.ndim() повертає кількість вимірів (dimensions) масиву. Це означає кількість вкладених списків, з яких складається масив. Отже, для векторів та матриць ми отримуємо однакові значення, оскільки вони є двома типами масивів, що мають визначену кількість вимірів. Значення shape відображає кількість елементів в кожному вимірі масиву, тоді як значення ndim відображає кількість вимірів.\n"
     ]
    }
   ],
   "source": [
    "examples = {\n",
    "    'Скаляр': np.array(1), \n",
    "    'Вектор Рядок': np.array([1, 2, 3]), \n",
    "    'Вектор Стовпець': np.array([[1], [2], [3]]), \n",
    "    'Матриця': np.array([[1, 2],[3, 4], [5, 6]]),\n",
    "    'Багатовимірна Матриця': np.array([ [[111, 112], [121, 122]],\n",
    "                                        [[211, 212], [221, 222]],\n",
    "                                        [[311, 312], [321, 322]] ])\n",
    "    }\n",
    "for key in examples:\n",
    "    print(f\"Розглядаємо приклад з {key}. \\nЗначення x буде: \\n\", examples[key])\n",
    "    print(f\"Тип {key} x: \", type(examples[key]))\n",
    "    print(f\"Розмірність/вимір {key} x:\", np.ndim(examples[key]))\n",
    "    print(f\"Форма {key} x: \", examples[key].shape)\n",
    "    print(f\"Кількість елементів х: {np.size(examples[key])}\")\n",
    "    print(\"-=-\"*10)\n",
    "\n",
    "print (\" Функція np.ndim() повертає кількість вимірів (dimensions) масиву. Це означає кількість вкладених списків, з яких складається масив. Отже, для векторів та матриць ми отримуємо однакові значення, оскільки вони є двома типами масивів, що мають визначену кількість вимірів. Значення shape відображає кількість елементів в кожному вимірі масиву, тоді як значення ndim відображає кількість вимірів.\")"
   ]
  },
  {
   "attachments": {},
   "cell_type": "markdown",
   "metadata": {},
   "source": [
    "**Багатовимірні масиви, розуміння вимірів**"
   ]
  },
  {
   "cell_type": "code",
   "execution_count": 74,
   "metadata": {},
   "outputs": [
    {
     "name": "stdout",
     "output_type": "stream",
     "text": [
      "Для 5 рядків маємо shape: \n",
      "(5, 1) \n",
      "та вигляд: \n",
      "[[1]\n",
      " [2]\n",
      " [3]\n",
      " [4]\n",
      " [5]]\n",
      "Для 5 стовпців маємо shape: \n",
      "(1, 5) \n",
      "та вигляд: \n",
      "[[1 2 3 4 5]]\n",
      "Для 5 елементів маємо shape: \n",
      "(1, 1, 5) \n",
      "та вигляд: \n",
      "[[[1 2 3 4 5]]]\n"
     ]
    }
   ],
   "source": [
    "examples = {\n",
    "    '5 рядків': np.array([[1], [2], [3], [4], [5]]), \n",
    "    '5 стовпців': np.array([[1, 2, 3, 4, 5]]),\n",
    "    '5 елементів': np.array([[[1, 2, 3, 4, 5]]])\n",
    "    }\n",
    "for a in examples:\n",
    "    print(f\"Для {a} маємо shape: \\n{examples[a].shape} \\nта вигляд: \\n{examples[a]}\")"
   ]
  },
  {
   "cell_type": "code",
   "execution_count": 75,
   "metadata": {},
   "outputs": [
    {
     "name": "stdout",
     "output_type": "stream",
     "text": [
      "Форма масиву a: (3,)\n",
      "Форма масиву b: (3, 2)\n"
     ]
    }
   ],
   "source": [
    "import numpy as np\n",
    "\n",
    "a = np.array([1, 2, 3])\n",
    "b = np.array([[1, 2], [3, 4], [5, 6]])\n",
    "\n",
    "print(\"Форма масиву a:\", a.shape)\n",
    "print(\"Форма масиву b:\", b.shape)\n"
   ]
  },
  {
   "attachments": {},
   "cell_type": "markdown",
   "metadata": {},
   "source": [
    "**Indexing and Slicing**"
   ]
  },
  {
   "cell_type": "code",
   "execution_count": 76,
   "metadata": {},
   "outputs": [
    {
     "name": "stdout",
     "output_type": "stream",
     "text": [
      "Масив: [ 1  1  2  3  5  8 13 21]\n",
      "Виміри: (8,)\n",
      "Памятаємо, що номерація масивів відбувається з 0.\n",
      "Тому перший елемент масиву:\n",
      " 1\n",
      "Другий:\n",
      " 1\n",
      "Останній, 8: \n",
      " 21\n",
      "Можемо скористатись відємними індексами якщо хочемо доступитись до елементів з кінця масиву.\n",
      "Але номерація вже з 1.\n",
      "Тому останній елемент:\n",
      " 21\n",
      "Передостанній:\n",
      " 13\n"
     ]
    }
   ],
   "source": [
    "F = np.array([1, 1, 2, 3, 5, 8, 13, 21])\n",
    "print(f\"\"\"Масив: {F}\n",
    "Виміри: {F.shape}\n",
    "Памятаємо, що номерація масивів відбувається з 0.\n",
    "Тому перший елемент масиву:\\n {F[0]}\n",
    "Другий:\\n {F[1]}\n",
    "Останній, {len(F)}: \\n {F[7]}\"\"\")\n",
    "\n",
    "print(f\"\"\"Можемо скористатись відємними індексами якщо хочемо доступитись до елементів з кінця масиву.\n",
    "Але номерація вже з 1.\n",
    "Тому останній елемент:\\n {F[-1]}\n",
    "Передостанній:\\n {F[-2]}\"\"\")"
   ]
  },
  {
   "cell_type": "code",
   "execution_count": 78,
   "metadata": {},
   "outputs": [
    {
     "name": "stdout",
     "output_type": "stream",
     "text": [
      "2\n",
      "[1 2 3]\n",
      "[1 4]\n",
      "[1 3 5]\n"
     ]
    }
   ],
   "source": [
    "arr = np.array([[1, 2, 3], [4, 5, 6]])\n",
    "print(arr[0, 1]) # виведе 2\n",
    "print(arr[0, :])  # виведе [1 2 3]\n",
    "print(arr[:, 0])  # виведе [1 4]\n",
    "print(np.take(arr, [0, 2, 4]))  # виведе [1 3 5]"
   ]
  },
  {
   "cell_type": "code",
   "execution_count": 79,
   "metadata": {},
   "outputs": [
    {
     "name": "stdout",
     "output_type": "stream",
     "text": [
      "Масив:\n",
      "[[ 3.4  8.7  9.9]\n",
      " [ 1.1 -7.8 -0.7]\n",
      " [ 4.1 12.3  4.8]\n",
      " [ 7.  -3.9  5.1]]\n",
      "Виміри: (4, 3)\n",
      "Принцип номерації такий самий, ТІЛЬКИ:\n",
      "Якщо задати одне значення то візьметься цілий рядок:\n",
      "    Перший рядок: [3.4 8.7 9.9]\n",
      "    Останній рядок: [ 7.  -3.9  5.1]\n",
      "Для того щоб взяти цілий стовпець (символ : вказує взяти всі елементи): \n",
      "    Перший стовпець: [3.4 1.1 4.1 7. ]\n",
      "    Останній стовпець: [ 9.9 -0.7  4.8  5.1]\n",
      "Потрібно задавати два значення для отримання конкретного елемента: \n",
      "    Перший елемент: 3.4 або 3.4\n",
      "    Останній елемент: 5.1 або 5.1 або 5.1\n",
      "\n"
     ]
    }
   ],
   "source": [
    "A = np.array([ [3.4, 8.7, 9.9], \n",
    "               [1.1, -7.8, -0.7],\n",
    "               [4.1, 12.3, 4.8],\n",
    "               [7.0, -3.9, 5.1]])\n",
    "\n",
    "print(f\"\"\"Масив:\n",
    "{A}\n",
    "Виміри: {A.shape}\n",
    "Принцип номерації такий самий, ТІЛЬКИ:\n",
    "Якщо задати одне значення то візьметься цілий рядок:\n",
    "    Перший рядок: {A[0]}\n",
    "    Останній рядок: {A[-1]}\n",
    "Для того щоб взяти цілий стовпець (символ : вказує взяти всі елементи): \n",
    "    Перший стовпець: {A[:,0]}\n",
    "    Останній стовпець: {A[:,-1]}\n",
    "Потрібно задавати два значення для отримання конкретного елемента: \n",
    "    Перший елемент: {A[0][0]} або {A[0, 0]}\n",
    "    Останній елемент: {A[3][2]} або {A[-1][-1]} або {A[3, -1]}\n",
    "\"\"\")"
   ]
  },
  {
   "cell_type": "code",
   "execution_count": 90,
   "metadata": {},
   "outputs": [
    {
     "name": "stdout",
     "output_type": "stream",
     "text": [
      "1\n",
      "5\n",
      "9\n"
     ]
    }
   ],
   "source": [
    "A = np.array([[1, 2, 3],\n",
    "              [4, 5, 6],\n",
    "              [7, 8, 9]])\n",
    "\n",
    "# виведення діагональних елементів багатовимірного масиву\n",
    "for i in range(len(A)):\n",
    "    print(A[i][i])\n",
    "\n"
   ]
  },
  {
   "cell_type": "code",
   "execution_count": 91,
   "metadata": {},
   "outputs": [
    {
     "name": "stdout",
     "output_type": "stream",
     "text": [
      "Масив:\n",
      "[0 1 2 3 4 5 6 7 8 9]\n",
      "Виміри: (10,)\n",
      "Беремо декілька елементів: [2 3 4]\n",
      "Всі елементи до заданого: [0 1 2 3]\n",
      "Всі елементи від заданого до кінця: [6 7 8 9]\n",
      "Всі елементи: [0 1 2 3 4 5 6 7 8 9]\n",
      "\n"
     ]
    }
   ],
   "source": [
    "S = np.array([0, 1, 2, 3, 4, 5, 6, 7, 8, 9])\n",
    "\n",
    "print(f\"\"\"Масив:\n",
    "{S}\n",
    "Виміри: {S.shape}\n",
    "Беремо декілька елементів: {S[2:5]}\n",
    "Всі елементи до заданого: {S[:4]}\n",
    "Всі елементи від заданого до кінця: {S[6:]}\n",
    "Всі елементи: {S[:]}\n",
    "\"\"\")\n"
   ]
  },
  {
   "cell_type": "code",
   "execution_count": 92,
   "metadata": {},
   "outputs": [
    {
     "name": "stdout",
     "output_type": "stream",
     "text": [
      "Масив:\n",
      "[0 1 2 3 4 5 6 7 8 9]\n",
      "Виміри: (10,)\n",
      "Беремо декілька елементів: [2 3 4]\n",
      "Всі елементи до заданого: [6 7 8 9]\n",
      "Всі елементи від заданого до кінця: [6 7 8 9]\n",
      "Всі елементи: [0 1 2 3 4 5 6 7 8 9]\n",
      "\n"
     ]
    }
   ],
   "source": [
    "#homework\n",
    "S = np.array([0, 1, 2, 3, 4, 5, 6, 7, 8, 9])\n",
    "\n",
    "print(f\"\"\"Масив:\n",
    "{S}\n",
    "Виміри: {S.shape}\n",
    "Беремо декілька елементів: {S[2:5]}\n",
    "Всі елементи до заданого: {S[-4:]}\n",
    "Всі елементи від заданого до кінця: {S[6:]}\n",
    "Всі елементи: {S[:]}\n",
    "\"\"\")\n"
   ]
  },
  {
   "cell_type": "code",
   "execution_count": 93,
   "metadata": {},
   "outputs": [
    {
     "name": "stdout",
     "output_type": "stream",
     "text": [
      "Масив:\n",
      "[[11 12 13 14 15]\n",
      " [21 22 23 24 25]\n",
      " [31 32 33 34 35]\n",
      " [41 42 43 44 45]\n",
      " [51 52 53 54 55]]\n",
      "Виміри: (5, 5)\n",
      "Беремо декілька рядків: \n",
      "[[11 12 13 14 15]\n",
      " [21 22 23 24 25]]\n",
      "Два перші стовпці: \n",
      "[[11 12]\n",
      " [21 22]\n",
      " [31 32]\n",
      " [41 42]\n",
      " [51 52]]\n",
      "Два останні рядки:\n",
      "[[41 42 43 44 45]\n",
      " [51 52 53 54 55]]\n",
      "Беремо підматрицю (нижні елементи): \n",
      "[[33 34 35]\n",
      " [43 44 45]\n",
      " [53 54 55]]\n",
      "\n"
     ]
    }
   ],
   "source": [
    "A = np.array([\n",
    "[11, 12, 13, 14, 15],\n",
    "[21, 22, 23, 24, 25],\n",
    "[31, 32, 33, 34, 35],\n",
    "[41, 42, 43, 44, 45],\n",
    "[51, 52, 53, 54, 55]])\n",
    "\n",
    "print(f\"\"\"Масив:\n",
    "{A}\n",
    "Виміри: {A.shape}\n",
    "Беремо декілька рядків: \n",
    "{A[0:2]}\n",
    "Два перші стовпці: \n",
    "{A[:, 0:2]}\n",
    "Два останні рядки:\n",
    "{A[3:, :]}\n",
    "Беремо підматрицю (нижні елементи): \n",
    "{A[-3:, -3:]}\n",
    "\"\"\")\n"
   ]
  },
  {
   "cell_type": "code",
   "execution_count": 94,
   "metadata": {},
   "outputs": [
    {
     "name": "stdout",
     "output_type": "stream",
     "text": [
      "Масив:\n",
      "[[11 12 13 14 15]\n",
      " [21 22 23 24 25]\n",
      " [31 32 33 34 35]\n",
      " [41 42 43 44 45]\n",
      " [51 52 53 54 55]]\n",
      "Виміри: (5, 5)\n",
      "Матриця 2х2 з верхнього кутка:\n",
      "[[11 12]\n",
      " [21 22]]\n",
      "Матриця 2х2 з нижнього кутка:\n",
      "[[41 42]\n",
      " [51 52]]\n",
      "\n"
     ]
    }
   ],
   "source": [
    "#homework\n",
    "A = np.array([\n",
    "    [11, 12, 13, 14, 15],\n",
    "    [21, 22, 23, 24, 25],\n",
    "    [31, 32, 33, 34, 35],\n",
    "    [41, 42, 43, 44, 45],\n",
    "    [51, 52, 53, 54, 55]\n",
    "])\n",
    "\n",
    "print(f\"\"\"Масив:\n",
    "{A}\n",
    "Виміри: {A.shape}\n",
    "Матриця 2х2 з верхнього кутка:\n",
    "{A[:2, :2]}\n",
    "Матриця 2х2 з нижнього кутка:\n",
    "{A[3:, :2]}\n",
    "\"\"\")\n"
   ]
  },
  {
   "cell_type": "code",
   "execution_count": 95,
   "metadata": {},
   "outputs": [
    {
     "name": "stdout",
     "output_type": "stream",
     "text": [
      "Масив:\n",
      "[[ 0  1  2  3  4  5  6]\n",
      " [ 7  8  9 10 11 12 13]\n",
      " [14 15 16 17 18 19 20]\n",
      " [21 22 23 24 25 26 27]]\n",
      "Виміри: (4, 7)\n",
      "Беремо кожен дугий елемент першого рядка: \n",
      "[0 2 4 6]\n",
      "Беремо кожен третій елемент першого рядка: \n",
      "[0 3 6]\n",
      "Кожен другий елемент в кожномуу другому рядку: \n",
      "[[ 0  2  4  6]\n",
      " [14 16 18 20]]\n",
      "Останні три елементи в кожному другому рядку:\n",
      "[[ 4  5  6]\n",
      " [18 19 20]]\n",
      "Можна повнісню змінити порядок елементів (дзерально обернемо):\n",
      "[[27 26 25 24 23 22 21]\n",
      " [20 19 18 17 16 15 14]\n",
      " [13 12 11 10  9  8  7]\n",
      " [ 6  5  4  3  2  1  0]]\n",
      "\n"
     ]
    }
   ],
   "source": [
    "A = np.arange(28).reshape(4, 7)\n",
    "\n",
    "print(f\"\"\"Масив:\n",
    "{A}\n",
    "Виміри: {A.shape}\n",
    "Беремо кожен дугий елемент першого рядка: \n",
    "{A[0, ::2]}\n",
    "Беремо кожен третій елемент першого рядка: \n",
    "{A[0, ::3]}\n",
    "Кожен другий елемент в кожномуу другому рядку: \n",
    "{A[::2, ::2]}\n",
    "Останні три елементи в кожному другому рядку:\n",
    "{A[::2, 4:]}\n",
    "Можна повнісню змінити порядок елементів (дзерально обернемо):\n",
    "{A[::-1, ::-1]}\n",
    "\"\"\")"
   ]
  },
  {
   "cell_type": "code",
   "execution_count": 96,
   "metadata": {},
   "outputs": [
    {
     "name": "stdout",
     "output_type": "stream",
     "text": [
      "[array([2, 3, 4]), array([3, 4, 5]), array([ 9, 10, 11]), array([10, 11, 12]), array([16, 17, 18]), array([17, 18, 19]), array([23, 24, 25]), array([24, 25, 26])]\n"
     ]
    }
   ],
   "source": [
    "#homework\n",
    "pyramid = []\n",
    "for i in range(0, A.shape[0]):\n",
    "    for j in range(max(0, (A.shape[1]-3)//2), min(A.shape[1]-2, (A.shape[1]+2)//2)):\n",
    "        pyramid.append(A[i,j:j+3])\n",
    "        \n",
    "print(pyramid)\n"
   ]
  },
  {
   "cell_type": "code",
   "execution_count": 97,
   "metadata": {},
   "outputs": [
    {
     "name": "stdout",
     "output_type": "stream",
     "text": [
      "Спочатку потрібно створити умову за якою здійснювати вибірку.\n",
      "Результат умови буде або True для 0 або False для 1.\n",
      "Після підставляння умови пошуку парних чисел в масив отримаємо:\n",
      "[ 0  2  4  6  8 10 12 14 16 18 20 22 24 26 28 30 32 34 36 38 40 42 44 46\n",
      " 48]\n",
      "Або застосувавти більш комплексну умову з двох порінянь:\n",
      "[0 1 2 3 4 5 6 7 8 9]\n"
     ]
    }
   ],
   "source": [
    "A = np.arange(50)\n",
    "all_even = (A%2==0) # парні\n",
    "complex = (A<30) & (A/5<2) \n",
    "\n",
    "print(f\"\"\"Спочатку потрібно створити умову за якою здійснювати вибірку.\n",
    "Результат умови буде або {all_even[0]} для {A[0]} або {all_even[1]} для {A[1]}.\n",
    "Після підставляння умови пошуку парних чисел в масив отримаємо:\n",
    "{A[all_even]}\n",
    "Або застосувавти більш комплексну умову з двох порінянь:\n",
    "{A[complex]}\"\"\")"
   ]
  },
  {
   "cell_type": "code",
   "execution_count": 98,
   "metadata": {},
   "outputs": [
    {
     "name": "stdout",
     "output_type": "stream",
     "text": [
      "[ 1  3  5  7  9 11 13 15 17 19 21 23 25 27 29 31 33 35 37 39 41 43 45 47\n",
      " 49]\n"
     ]
    }
   ],
   "source": [
    "A = np.arange(50)\n",
    "odd = A%2==1 # непарні числа\n",
    "print(A[odd])\n"
   ]
  },
  {
   "attachments": {},
   "cell_type": "markdown",
   "metadata": {},
   "source": [
    "**Функції для створення матриць: ones, zeros, identity, eye, empty**"
   ]
  },
  {
   "cell_type": "code",
   "execution_count": 99,
   "metadata": {},
   "outputs": [
    {
     "name": "stdout",
     "output_type": "stream",
     "text": [
      "\n",
      "Всі елементи 1:\n",
      "[1. 1. 1. 1. 1.]\n",
      "Всі елементи 0:\n",
      "[0. 0. 0. 0. 0.]\n",
      "Матриця в якої діагональ всі 1:\n",
      "[[1. 0. 0. 0. 0.]\n",
      " [0. 1. 0. 0. 0.]\n",
      " [0. 0. 1. 0. 0.]\n",
      " [0. 0. 0. 1. 0.]\n",
      " [0. 0. 0. 0. 1.]]\n",
      "Також, діагональ всі 1 (зменшимо вивід):\n",
      "[[1. 0.]\n",
      " [0. 1.]]\n",
      "Пуста матриця буде містити набір випадкових чисел які записані у память де був ініціалізований масив:\n",
      "[6.23042070e-307 4.67296746e-307 1.69121096e-306 1.11258022e-307\n",
      " 1.03981874e-312]\n",
      "\n"
     ]
    }
   ],
   "source": [
    "o = np.ones(5)\n",
    "z = np.zeros(5)\n",
    "i = np.identity(5)\n",
    "e = np.eye(5)\n",
    "t = np.empty(5)\n",
    "\n",
    "print(f\"\"\"\n",
    "Всі елементи 1:\n",
    "{o}\n",
    "Всі елементи 0:\n",
    "{z}\n",
    "Матриця в якої діагональ всі 1:\n",
    "{i}\n",
    "Також, діагональ всі 1 (зменшимо вивід):\n",
    "{e[:2, :2]}\n",
    "Пуста матриця буде містити набір випадкових чисел які записані у память де був ініціалізований масив:\n",
    "{t}\n",
    "\"\"\")"
   ]
  },
  {
   "attachments": {},
   "cell_type": "markdown",
   "metadata": {},
   "source": [
    "Починаємо роботу з `Numpy`"
   ]
  },
  {
   "cell_type": "code",
   "execution_count": 100,
   "metadata": {},
   "outputs": [
    {
     "name": "stdout",
     "output_type": "stream",
     "text": [
      "Маємо масив <class 'list'> довжиною 10 який займає в памяті 136 байти\n",
      "Маємо Numpy масив <class 'numpy.ndarray'> довжиною 10 який займає в памяті 152 байти\n",
      "Переконаємось що для великих розмірів Numpy краще використовую память компютера:\n",
      "<class 'list'> займає в памяті 680056 байти,\n",
      "<class 'numpy.ndarray'> займає в памяті 340112 байти\n"
     ]
    }
   ],
   "source": [
    "import sys\n",
    "l = [1, 2, 3, 6, 7, 8, 9, 12, 14, 16]\n",
    "print(f\"Маємо масив {type(l)} довжиною {len(l)} який займає в памяті {sys.getsizeof(l)} байти\")\n",
    "a = np.array(l)\n",
    "print(f\"Маємо Numpy масив {type(a)} довжиною {len(a)} який займає в памяті {sys.getsizeof(a)} байти\")\n",
    "\n",
    "print(\"Переконаємось що для великих розмірів Numpy краще використовую память компютера:\")\n",
    "l2 = list(range(65000, 150000))\n",
    "a2 = np.array(l2)\n",
    "print(f\"{type(l2)} займає в памяті {sys.getsizeof(l2)} байти,\\n{type(a2)} займає в памяті {sys.getsizeof(a2)} байти\")"
   ]
  },
  {
   "cell_type": "code",
   "execution_count": 101,
   "metadata": {},
   "outputs": [
    {
     "name": "stdout",
     "output_type": "stream",
     "text": [
      "Маємо <class 'list'> з набором різних даних:\n",
      "Маємо число 5 типу <class 'int'>\n",
      "Маємо число 5.0 типу <class 'float'>\n",
      "Маємо число [5] типу <class 'list'>\n",
      "Маємо число [5] типу <class 'numpy.ndarray'>\n",
      "Покажемо як виконувати арифметичні операції:\n",
      "Результат 10.0 типу <class 'float'>\n",
      "Результат 10 типу <class 'int'>\n",
      "Результат [10] типу <class 'numpy.ndarray'>. Зверніть увагу що нам не треба розкривати масив.\n",
      "Покажемо кращий приклад з масивами, де ми хочемо виконати (x * 5 + 6) над кожним елементом масиву:\n",
      "Результат [11, 16, 21, 26, 31] типу <class 'list'>\n",
      "Результат [11 16 21 26 31] типу <class 'numpy.ndarray'>\n"
     ]
    }
   ],
   "source": [
    "items = [int(5), float(5), list([5]), np.array([5])]\n",
    "print(f\"Маємо {type(items)} з набором різних даних:\")\n",
    "for item in items:\n",
    "    print(f\"Маємо число {item} типу {type(item)}\")\n",
    "\n",
    "print(\"Покажемо як виконувати арифметичні операції:\")\n",
    "\n",
    "a = items[0] + items[1]\n",
    "print(f\"Результат {a} типу {type(a)}\")\n",
    "a = items[0] + items[2][0]\n",
    "print(f\"Результат {a} типу {type(a)}\")\n",
    "a = items[0] + items[-1]\n",
    "print(f\"Результат {a} типу {type(a)}. Зверніть увагу що нам не треба розкривати масив.\")\n",
    "\n",
    "print(\"Покажемо кращий приклад з масивами, де ми хочемо виконати (x * 5 + 6) над кожним елементом масиву:\")\n",
    "\n",
    "l = [1, 2, 3, 4, 5]\n",
    "n = np.array(l)\n",
    "\n",
    "a = [i * 5 + 6 for i in l]\n",
    "print(f\"Результат {a} типу {type(a)}\")\n",
    "a = n * 5 + 6\n",
    "print(f\"Результат {a} типу {type(a)}\")"
   ]
  },
  {
   "attachments": {},
   "cell_type": "markdown",
   "metadata": {},
   "source": [
    "**Виконаємо приклад з документації Numpy**\n",
    "\n",
    "![Розв`яжемо приклад за формулою](https://numpy.org/doc/stable/user/absolute_beginners.html#working-with-mathematical-formulas) "
   ]
  },
  {
   "cell_type": "code",
   "execution_count": 102,
   "metadata": {},
   "outputs": [
    {
     "name": "stdout",
     "output_type": "stream",
     "text": [
      "Якщо Y_prediction = [2 4] та Y = [0.2 0.6] то за формулою будемо мати: 7.3999999999999995\n",
      "А ось так воно виглядає чистим пайтоном:\n",
      "Якщо Y_prediction = [2, 4] та Y = [0.2, 0.6] то за формулою будемо мати: [3.24, 11.559999999999999] та результат 7.3999999999999995\n"
     ]
    }
   ],
   "source": [
    "from numpy.random import randint, random\n",
    "\n",
    "n = 2\n",
    "Y_prediction = np.array([2, 4]) #randint(1, 100, size=n) # Це є цілі числа\n",
    "Y = np.array([0.2, 0.6]) #random(size=n) # Це є числа з плаваючою крапкою від 0 до 1\n",
    "\n",
    "MSE = np.sum(np.square(Y_prediction - Y)) / n # Це наша формула\n",
    "\n",
    "print(f\"Якщо Y_prediction = {Y_prediction} та Y = {Y} то за формулою будемо мати: {MSE}\")\n",
    "\n",
    "\n",
    "print(\"А ось так воно виглядає чистим пайтоном:\")\n",
    "\n",
    "Y_prediction = [2, 4]\n",
    "Y = [0.2, 0.6]\n",
    "\n",
    "MSE = []\n",
    "for i in range(n):\n",
    "    MSE.append((Y_prediction[i] - Y[i])**2)\n",
    "\n",
    "MSE_final = sum(MSE) / n\n",
    "\n",
    "print(f\"Якщо Y_prediction = {Y_prediction} та Y = {Y} то за формулою будемо мати: {MSE} та результат {MSE_final}\")"
   ]
  },
  {
   "attachments": {},
   "cell_type": "markdown",
   "metadata": {},
   "source": [
    "**Методи створення масивів в Numpy**"
   ]
  },
  {
   "cell_type": "code",
   "execution_count": 106,
   "metadata": {},
   "outputs": [
    {
     "name": "stdout",
     "output_type": "stream",
     "text": [
      "Згенерували <class 'list'> на 15 елементів, де 0-й елемент 0 та останній елемент 14\n",
      "Згенерували <class 'numpy.ndarray'> на 15 елементів, де 0-й елемент 0 та останній елемент 14\n",
      "Згенерували <class 'numpy.ndarray'> на 15 елементів, де 0-й елемент 0 та останній елемент 14\n",
      "Оскільки останній лемент не враховується то будемо мати тільки 3 які є: [10 12 14]\n",
      "Оскільки останній лемент не враховується то будемо мати тільки 2 які є: [10 12]\n",
      "Якщо крок дробовий то буде 10 де 0-й елемент 10.0 та останній 11.799999999999994 та можемо його округлити до 2-х знаків 11.8\n"
     ]
    }
   ],
   "source": [
    "l = list(range(15))\n",
    "print(f\"Згенерували {type(l)} на {len(l)} елементів, де 0-й елемент {l[0]} та останній елемент {l[-1]}\")\n",
    "# звісно можемо просто перетворити попредній ліст в масив нампай\n",
    "a = np.array(l)\n",
    "print(f\"Згенерували {type(a)} на {len(a)} елементів, де 0-й елемент {a[0]} та останній елемент {a[-1]}\")\n",
    "# краще використовувати методи нампай\n",
    "n = np.arange(15)\n",
    "print(f\"Згенерували {type(n)} на {len(n)} елементів, де 0-й елемент {n[0]} та останній елемент {n[-1]}\")\n",
    "n2 = np.arange(10, 15, 2)\n",
    "print(f\"Оскільки останній лемент не враховується то будемо мати тільки {len(n2)} які є: {n2}\")\n",
    "n3 = np.arange(10, 14, 2)\n",
    "print(f\"Оскільки останній лемент не враховується то будемо мати тільки {len(n3)} які є: {n3}\")\n",
    "n4 = np.arange(10, 12, step=.2)\n",
    "print(f\"Якщо крок дробовий то буде {len(n4)} де 0-й елемент {n4[0]} та останній {n4[-1]} та можемо його округлити до 2-х знаків {np.round(n4[-1], 2)}\")"
   ]
  },
  {
   "cell_type": "code",
   "execution_count": 107,
   "metadata": {},
   "outputs": [
    {
     "name": "stdout",
     "output_type": "stream",
     "text": [
      "Згенерували <class 'numpy.ndarray'> на 20 елементів, де 0-й елемент 10.0 та останній елемент 12.0\n",
      "Подивимось на всі елементи масиву:\n",
      "[10.         10.10526316 10.21052632 10.31578947 10.42105263 10.52631579\n",
      " 10.63157895 10.73684211 10.84210526 10.94736842 11.05263158 11.15789474\n",
      " 11.26315789 11.36842105 11.47368421 11.57894737 11.68421053 11.78947368\n",
      " 11.89473684 12.        ]\n",
      "Спробуємо округлити до 3-х знаків:\n",
      "[10.    10.105 10.211 10.316 10.421 10.526 10.632 10.737 10.842 10.947\n",
      " 11.053 11.158 11.263 11.368 11.474 11.579 11.684 11.789 11.895 12.   ]\n"
     ]
    }
   ],
   "source": [
    "n = np.linspace(10, 12, num=20)\n",
    "print(f\"Згенерували {type(n)} на {len(n)} елементів, де 0-й елемент {n[0]} та останній елемент {n[-1]}\")\n",
    "print(f\"Подивимось на всі елементи масиву:\\n{n}\")\n",
    "print(f\"Спробуємо округлити до 3-х знаків:\\n{np.round(n, 3)}\")"
   ]
  },
  {
   "cell_type": "code",
   "execution_count": 110,
   "metadata": {},
   "outputs": [
    {
     "name": "stdout",
     "output_type": "stream",
     "text": [
      "Але ми мали однакову кільксть елементів 20 = 20, Перший елемент ріний 10.0 = 10.0, Останній елемент не рівні 12.0 =/ 11.899999999999993\n"
     ]
    },
    {
     "data": {
      "image/png": "[encoded data removed]",
      "text/plain": [
       "<Figure size 640x480 with 1 Axes>"
      ]
     },
     "metadata": {},
     "output_type": "display_data"
    }
   ],
   "source": [
    "N = 20\n",
    "x = np.linspace(10, 12, num=N)\n",
    "y = np.linspace(20, 30, num=N)\n",
    "plt.plot(x, y, 'o', label=\"linspace\")\n",
    "\n",
    "x1 = np.arange(10, 12, step=.1)\n",
    "y1 = np.arange(20, 30, step=.5)\n",
    "\n",
    "plt.plot(x1, y1, 'o', label=\"arange\")\n",
    "print(f\"Але ми мали однакову кільксть елементів {len(x)} = {len(x1)}, Перший елемент ріний {x[0]} = {x1[0]}, Останній елемент не рівні {x[-1]} =/ {x1[-1]}\")\n",
    "\n",
    "plt.legend()\n",
    "plt.show()"
   ]
  },
  {
   "attachments": {},
   "cell_type": "markdown",
   "metadata": {},
   "source": [
    "**Розуміння векторів та матриць**"
   ]
  },
  {
   "cell_type": "code",
   "execution_count": 111,
   "metadata": {},
   "outputs": [
    {
     "name": "stdout",
     "output_type": "stream",
     "text": [
      "Це буде вектор рядок:\n",
      "[ 0  1  2  3  4  5  6  7  8  9 10 11 12 13 14 15]\n",
      "Це вектор стовпець:\n",
      "[[ 0]\n",
      " [ 1]\n",
      " [ 2]\n",
      " [ 3]\n",
      " [ 4]\n",
      " [ 5]\n",
      " [ 6]\n",
      " [ 7]\n",
      " [ 8]\n",
      " [ 9]\n",
      " [10]\n",
      " [11]\n",
      " [12]\n",
      " [13]\n",
      " [14]\n",
      " [15]]\n"
     ]
    }
   ],
   "source": [
    "vr = np.arange(16)\n",
    "print(f\"Це буде вектор рядок:\\n{vr}\")\n",
    "vs = np.arange(16).reshape(16, 1)\n",
    "print(f\"Це вектор стовпець:\\n{vs}\")"
   ]
  },
  {
   "cell_type": "code",
   "execution_count": 112,
   "metadata": {},
   "outputs": [
    {
     "name": "stdout",
     "output_type": "stream",
     "text": [
      "\n",
      "Вектор ряди які створили вручну будуть виглядати:\n",
      "VR1=\n",
      "[1 2 3]\n",
      "---\n",
      "VR2=\n",
      "[4 5 6]\n",
      "Вектор стовпці які створили вручну будуть виглядати:\n",
      "VS1=\n",
      "[[1]\n",
      " [2]\n",
      " [3]]\n",
      "---\n",
      "VS2=\n",
      "[[4]\n",
      " [5]\n",
      " [6]]\n",
      "\n",
      "Спробуємо додавання однакових векторів:\n",
      "\n",
      "VR1+VR2=\n",
      "[5 7 9]\n",
      "---\n",
      "VS1+VS2=\n",
      "[[5]\n",
      " [7]\n",
      " [9]]\n",
      "---\n",
      "При додавання різних типів векторів будемо мати матрицю:\n",
      "VR1+VS1=\n",
      "[[2 3 4]\n",
      " [3 4 5]\n",
      " [4 5 6]]\n",
      "\n"
     ]
    }
   ],
   "source": [
    "vr1 = np.array([1, 2, 3])\n",
    "vr2 = np.array([4, 5, 6])\n",
    "vs1 = np.array([[1], [2], [3]])\n",
    "vs2 = np.array([[4], [5], [6]])\n",
    "print(f\"\"\"\n",
    "Вектор ряди які створили вручну будуть виглядати:\n",
    "VR1=\n",
    "{vr1}\n",
    "---\n",
    "VR2=\n",
    "{vr2}\n",
    "Вектор стовпці які створили вручну будуть виглядати:\n",
    "VS1=\n",
    "{vs1}\n",
    "---\n",
    "VS2=\n",
    "{vs2}\n",
    "\"\"\")\n",
    "\n",
    "print(\"Спробуємо додавання однакових векторів:\")\n",
    "print(f\"\"\"\n",
    "VR1+VR2=\n",
    "{vr1+vr2}\n",
    "---\n",
    "VS1+VS2=\n",
    "{vs1+vs2}\n",
    "---\n",
    "При додавання різних типів векторів будемо мати матрицю:\n",
    "VR1+VS1=\n",
    "{vr1+vs1}\n",
    "\"\"\")"
   ]
  },
  {
   "cell_type": "code",
   "execution_count": 113,
   "metadata": {},
   "outputs": [
    {
     "name": "stdout",
     "output_type": "stream",
     "text": [
      "Вектор рядок має форму (16,) та кількість вимірів 1;\n",
      "А вектор стовпець має форму (16, 1) та кількість вимірів 2\n",
      "Можемо зробити 3-х вимірний масив/матрицю з формою (4, 2, 2):\n",
      "[[[ 0  1]\n",
      "  [ 2  3]]\n",
      "\n",
      " [[ 4  5]\n",
      "  [ 6  7]]\n",
      "\n",
      " [[ 8  9]\n",
      "  [10 11]]\n",
      "\n",
      " [[12 13]\n",
      "  [14 15]]]\n",
      "Можемо зробити 3-х вимірний масив/матрицю з формою (4, 4, 1):\n",
      "[[[ 0]\n",
      "  [ 1]\n",
      "  [ 2]\n",
      "  [ 3]]\n",
      "\n",
      " [[ 4]\n",
      "  [ 5]\n",
      "  [ 6]\n",
      "  [ 7]]\n",
      "\n",
      " [[ 8]\n",
      "  [ 9]\n",
      "  [10]\n",
      "  [11]]\n",
      "\n",
      " [[12]\n",
      "  [13]\n",
      "  [14]\n",
      "  [15]]]\n",
      "Можемо зробити 4-х вимірний масив/матрицю з формою (2, 2, 2, 2):\n",
      "[[[[ 0  1]\n",
      "   [ 2  3]]\n",
      "\n",
      "  [[ 4  5]\n",
      "   [ 6  7]]]\n",
      "\n",
      "\n",
      " [[[ 8  9]\n",
      "   [10 11]]\n",
      "\n",
      "  [[12 13]\n",
      "   [14 15]]]]\n",
      "Можемо зробити 5-х вимірний масив/матрицю з формою (1, 1, 2, 2, 4):\n",
      "[[[[[ 0  1  2  3]\n",
      "    [ 4  5  6  7]]\n",
      "\n",
      "   [[ 8  9 10 11]\n",
      "    [12 13 14 15]]]]]\n",
      "Добуток всі значень форми ко кожній з осей має бути рівним загальній кількості елементів масиву\n"
     ]
    }
   ],
   "source": [
    "print(f\"\"\"Вектор рядок має форму {vr.shape} та кількість вимірів {vr.ndim};\n",
    "А вектор стовпець має форму {vs.shape} та кількість вимірів {vs.ndim}\"\"\")\n",
    "\n",
    "for vm in (vr.reshape(4, 2, 2), vr.reshape(4, 4, 1), vr.reshape(2, 2, 2, 2), vr.reshape(1, 1, 2, 2, 4)):\n",
    "    print(f\"Можемо зробити {vm.ndim}-х вимірний масив/матрицю з формою {vm.shape}:\\n{vm}\")\n",
    "\n",
    "\n",
    "print(\"Добуток всі значень форми ко кожній з осей має бути рівним загальній кількості елементів масиву\")"
   ]
  },
  {
   "attachments": {},
   "cell_type": "markdown",
   "metadata": {},
   "source": [
    "**Робота з векторами та матрицями**"
   ]
  },
  {
   "cell_type": "code",
   "execution_count": 116,
   "metadata": {},
   "outputs": [
    {
     "name": "stdout",
     "output_type": "stream",
     "text": [
      "Згенерували матрицю з 2-х вимірів та (4, 10) формою:\n",
      "[[ 0  1  2  3  4  5  6  7  8  9]\n",
      " [10 11 12 13 14 15 16 17 18 19]\n",
      " [20 21 22 23 24 25 26 27 28 29]\n",
      " [30 31 32 33 34 35 36 37 38 39]]\n"
     ]
    }
   ],
   "source": [
    "m = np.arange(40).reshape(4, 10)\n",
    "print(f\"Згенерували матрицю з {m.ndim}-х вимірів та {m.shape} формою:\\n{m}\")"
   ]
  },
  {
   "cell_type": "code",
   "execution_count": 117,
   "metadata": {},
   "outputs": [
    {
     "name": "stdout",
     "output_type": "stream",
     "text": [
      "\n",
      "Матриця 2-х вимірна, тому коли беремо один індекс, то витягуємо вектор:\n",
      "Беремо весь рядок:\n",
      "[0 1 2 3 4 5 6 7 8 9]\n",
      "Беремо весь стовпець (який перетвориться в рядок):\n",
      "[ 0 10 20 30]\n",
      "Якщо хочемо взяти лише один елемент тоді (наприклад число 11, потім 27):\n",
      "11 | 27\n",
      "Якщо хочемо взяти діапазон:\n",
      "[[ 2  5  8]\n",
      " [12 15 18]\n",
      " [22 25 28]\n",
      " [32 35 38]]\n",
      "Також можна використовувати відємні індекси (беремо останні елемент):\n",
      "39\n",
      "Відємні ідекси для діапазону:\n",
      "[[ 6  7  8  9]\n",
      " [16 17 18 19]\n",
      " [26 27 28 29]\n",
      " [36 37 38 39]]\n",
      "\n"
     ]
    }
   ],
   "source": [
    "print(f\"\"\"\n",
    "Матриця {m.ndim}-х вимірна, тому коли беремо один індекс, то витягуємо вектор:\n",
    "Беремо весь рядок:\n",
    "{m[0]}\n",
    "Беремо весь стовпець (який перетвориться в рядок):\n",
    "{m[:, 0]}\n",
    "Якщо хочемо взяти лише один елемент тоді (наприклад число 11, потім 27):\n",
    "{m[1, 1]} | {m[2, 7]}\n",
    "Якщо хочемо взяти діапазон:\n",
    "{m[:, 2::3]}\n",
    "Також можна використовувати відємні індекси (беремо останні елемент):\n",
    "{m[-1, -1]}\n",
    "Відємні ідекси для діапазону:\n",
    "{m[:, -4:]}\n",
    "\"\"\")"
   ]
  },
  {
   "attachments": {},
   "cell_type": "markdown",
   "metadata": {},
   "source": [
    "**Зарезервовані функції для створення матриць**"
   ]
  },
  {
   "cell_type": "code",
   "execution_count": 118,
   "metadata": {},
   "outputs": [
    {
     "name": "stdout",
     "output_type": "stream",
     "text": [
      "Наприклад можемо ініціалізувати пустий масив з елементами int який буде мати випадкові дані залежно що було в памяті коли створився масив:\n",
      "[         0 1072693248          0 1073741824          0 1074003968\n",
      "          0 1075052544          0 1076101120]\n",
      "Або можемо ініціалізувати масив з всіма одиницями:\n",
      "[1 1 1 1 1 1 1 1 1 1]\n",
      "Одинична матриця де всі елементи головної діагоналі є одиницями:\n",
      "[[1. 0. 0. 0. 0.]\n",
      " [0. 1. 0. 0. 0.]\n",
      " [0. 0. 1. 0. 0.]\n",
      " [0. 0. 0. 1. 0.]\n",
      " [0. 0. 0. 0. 1.]]\n",
      "Те саме дає eye:\n",
      "[[1. 0. 0. 0. 0.]\n",
      " [0. 1. 0. 0. 0.]\n",
      " [0. 0. 1. 0. 0.]\n",
      " [0. 0. 0. 1. 0.]\n",
      " [0. 0. 0. 0. 1.]]\n"
     ]
    }
   ],
   "source": [
    "e = np.empty(10, dtype=int)\n",
    "print(f\"Наприклад можемо ініціалізувати пустий масив з елементами int який буде мати випадкові дані залежно що було в памяті коли створився масив:\\n{e}\")\n",
    "\n",
    "i = np.ones(10, dtype=int)\n",
    "print(f\"Або можемо ініціалізувати масив з всіма одиницями:\\n{i}\")\n",
    "\n",
    "i = np.identity(5)\n",
    "e = np.eye(5)\n",
    "print(f\"Одинична матриця де всі елементи головної діагоналі є одиницями:\\n{i}\\nТе саме дає eye:\\n{e}\")"
   ]
  }
 ],
 "metadata": {
  "kernelspec": {
   "display_name": "Python 3",
   "language": "python",
   "name": "python3"
  },
  "language_info": {
   "codemirror_mode": {
    "name": "ipython",
    "version": 3
   },
   "file_extension": ".py",
   "mimetype": "text/x-python",
   "name": "python",
   "nbconvert_exporter": "python",
   "pygments_lexer": "ipython3",
   "version": "3.11.3"
  },
  "orig_nbformat": 4
 },
 "nbformat": 4,
 "nbformat_minor": 2
}
